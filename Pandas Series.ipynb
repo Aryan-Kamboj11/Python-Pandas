{
 "cells": [
  {
   "cell_type": "code",
   "execution_count": 1,
   "id": "da8243b9",
   "metadata": {},
   "outputs": [],
   "source": [
    "import pandas as pd"
   ]
  },
  {
   "cell_type": "code",
   "execution_count": 2,
   "id": "3c161b3e",
   "metadata": {},
   "outputs": [],
   "source": [
    "marks =  [75,80,91,33]\n",
    "subject = ['Maths','Physics','Computer Science','English']"
   ]
  },
  {
   "cell_type": "code",
   "execution_count": 3,
   "id": "0fe64f42",
   "metadata": {},
   "outputs": [],
   "source": [
    "df = pd.Series(marks,index=subject,name = 'Marks')"
   ]
  },
  {
   "cell_type": "code",
   "execution_count": 4,
   "id": "ce230983",
   "metadata": {},
   "outputs": [
    {
     "data": {
      "text/plain": [
       "pandas.core.series.Series"
      ]
     },
     "execution_count": 4,
     "metadata": {},
     "output_type": "execute_result"
    }
   ],
   "source": [
    "type(df)"
   ]
  },
  {
   "cell_type": "code",
   "execution_count": 5,
   "id": "6f49cd73",
   "metadata": {},
   "outputs": [
    {
     "data": {
      "text/plain": [
       "numpy.int64"
      ]
     },
     "execution_count": 5,
     "metadata": {},
     "output_type": "execute_result"
    }
   ],
   "source": [
    "type(df.Maths)"
   ]
  },
  {
   "cell_type": "code",
   "execution_count": 6,
   "id": "ccf9ce8e",
   "metadata": {},
   "outputs": [],
   "source": [
    "dict1 ={\n",
    "    'Maths':75,\n",
    "    'English':81,\n",
    "    'Physics':72,\n",
    "    'Comp Sci':98\n",
    "}"
   ]
  },
  {
   "cell_type": "code",
   "execution_count": 7,
   "id": "1d261cfc",
   "metadata": {},
   "outputs": [
    {
     "data": {
      "text/plain": [
       "Maths       75\n",
       "English     81\n",
       "Physics     72\n",
       "Comp Sci    98\n",
       "dtype: int64"
      ]
     },
     "execution_count": 7,
     "metadata": {},
     "output_type": "execute_result"
    }
   ],
   "source": [
    "pd.Series(dict1)"
   ]
  },
  {
   "cell_type": "code",
   "execution_count": 8,
   "id": "f23d192f",
   "metadata": {},
   "outputs": [],
   "source": [
    "dict1 ={\n",
    "    'Maths':{\n",
    "       'stu1' : 92,\n",
    "        'stu2':91\n",
    "    },\n",
    "    'English':81,\n",
    "    'Physics':72,\n",
    "    'Comp Sci':98\n",
    "}"
   ]
  },
  {
   "cell_type": "code",
   "execution_count": 9,
   "id": "f5e0bfe1",
   "metadata": {},
   "outputs": [
    {
     "data": {
      "text/plain": [
       "4"
      ]
     },
     "execution_count": 9,
     "metadata": {},
     "output_type": "execute_result"
    }
   ],
   "source": [
    "df.size"
   ]
  },
  {
   "cell_type": "code",
   "execution_count": 10,
   "id": "f2c4e173",
   "metadata": {},
   "outputs": [
    {
     "data": {
      "text/plain": [
       "dtype('int64')"
      ]
     },
     "execution_count": 10,
     "metadata": {},
     "output_type": "execute_result"
    }
   ],
   "source": [
    "df.dtype"
   ]
  },
  {
   "cell_type": "code",
   "execution_count": 11,
   "id": "800d47e2",
   "metadata": {},
   "outputs": [
    {
     "data": {
      "text/plain": [
       "'Marks'"
      ]
     },
     "execution_count": 11,
     "metadata": {},
     "output_type": "execute_result"
    }
   ],
   "source": [
    "df.name"
   ]
  },
  {
   "cell_type": "code",
   "execution_count": 12,
   "id": "cf86a6fc",
   "metadata": {},
   "outputs": [
    {
     "data": {
      "text/plain": [
       "True"
      ]
     },
     "execution_count": 12,
     "metadata": {},
     "output_type": "execute_result"
    }
   ],
   "source": [
    "df.is_unique"
   ]
  },
  {
   "cell_type": "code",
   "execution_count": 13,
   "id": "9750436e",
   "metadata": {},
   "outputs": [
    {
     "data": {
      "text/plain": [
       "Index(['Maths', 'Physics', 'Computer Science', 'English'], dtype='object')"
      ]
     },
     "execution_count": 13,
     "metadata": {},
     "output_type": "execute_result"
    }
   ],
   "source": [
    "df.index"
   ]
  },
  {
   "cell_type": "code",
   "execution_count": 14,
   "id": "738e34fd",
   "metadata": {},
   "outputs": [
    {
     "data": {
      "text/plain": [
       "array([75, 80, 91, 33], dtype=int64)"
      ]
     },
     "execution_count": 14,
     "metadata": {},
     "output_type": "execute_result"
    }
   ],
   "source": [
    "df.values"
   ]
  },
  {
   "cell_type": "code",
   "execution_count": 15,
   "id": "98c66f83",
   "metadata": {},
   "outputs": [],
   "source": [
    "subs = pd.read_csv('Dataset/subs.csv',squeeze=True)  # to convert a read_csv file from dataframe to series set squezze as True"
   ]
  },
  {
   "cell_type": "code",
   "execution_count": 16,
   "id": "3f221642",
   "metadata": {},
   "outputs": [
    {
     "data": {
      "text/plain": [
       "pandas.core.series.Series"
      ]
     },
     "execution_count": 16,
     "metadata": {},
     "output_type": "execute_result"
    }
   ],
   "source": [
    "type(subs)"
   ]
  },
  {
   "cell_type": "code",
   "execution_count": 17,
   "id": "58edf841",
   "metadata": {},
   "outputs": [
    {
     "data": {
      "text/plain": [
       "0       48\n",
       "1       57\n",
       "2       40\n",
       "3       43\n",
       "4       44\n",
       "      ... \n",
       "360    231\n",
       "361    226\n",
       "362    155\n",
       "363    144\n",
       "364    172\n",
       "Name: Subscribers gained, Length: 365, dtype: int64"
      ]
     },
     "execution_count": 17,
     "metadata": {},
     "output_type": "execute_result"
    }
   ],
   "source": [
    "subs"
   ]
  },
  {
   "cell_type": "code",
   "execution_count": 18,
   "id": "00407e1b",
   "metadata": {},
   "outputs": [],
   "source": [
    "vk = pd.read_csv('Dataset/kohli_ipl.csv',index_col='match_no',squeeze=True)"
   ]
  },
  {
   "cell_type": "code",
   "execution_count": 19,
   "id": "1c1de4fe",
   "metadata": {},
   "outputs": [],
   "source": [
    "movies=pd.read_csv('Dataset/Bollywood.csv',index_col='movie',squeeze=True)"
   ]
  },
  {
   "cell_type": "code",
   "execution_count": 20,
   "id": "3c5fc8f6",
   "metadata": {},
   "outputs": [
    {
     "data": {
      "text/plain": [
       "pandas.core.series.Series"
      ]
     },
     "execution_count": 20,
     "metadata": {},
     "output_type": "execute_result"
    }
   ],
   "source": [
    "type(movies)"
   ]
  },
  {
   "cell_type": "code",
   "execution_count": 21,
   "id": "73217bdf",
   "metadata": {},
   "outputs": [
    {
     "data": {
      "text/plain": [
       "match_no\n",
       "40    12\n",
       "Name: runs, dtype: int64"
      ]
     },
     "execution_count": 21,
     "metadata": {},
     "output_type": "execute_result"
    }
   ],
   "source": [
    "vk.sample()"
   ]
  },
  {
   "cell_type": "code",
   "execution_count": 22,
   "id": "839e9af8",
   "metadata": {},
   "outputs": [
    {
     "data": {
      "text/plain": [
       "movie\n",
       "Agneepath (2012 film)    Hrithik Roshan\n",
       "Brahman Naman            Shashank Arora\n",
       "Newton (film)             Rajkummar Rao\n",
       "Risknamaa                Garima Agarwal\n",
       "Lakshya (film)           Hrithik Roshan\n",
       "Name: lead, dtype: object"
      ]
     },
     "execution_count": 22,
     "metadata": {},
     "output_type": "execute_result"
    }
   ],
   "source": [
    "movies.sample(5)"
   ]
  },
  {
   "cell_type": "code",
   "execution_count": 23,
   "id": "e9e53b69",
   "metadata": {},
   "outputs": [
    {
     "data": {
      "text/plain": [
       "Akshay Kumar        48\n",
       "Amitabh Bachchan    45\n",
       "Ajay Devgn          38\n",
       "Salman Khan         31\n",
       "Sanjay Dutt         26\n",
       "                    ..\n",
       "Diganth              1\n",
       "Parveen Kaur         1\n",
       "Seema Azmi           1\n",
       "Akanksha Puri        1\n",
       "Edwin Fernandes      1\n",
       "Name: lead, Length: 566, dtype: int64"
      ]
     },
     "execution_count": 23,
     "metadata": {},
     "output_type": "execute_result"
    }
   ],
   "source": [
    "movies.value_counts()"
   ]
  },
  {
   "cell_type": "code",
   "execution_count": 24,
   "id": "eaca1aa4",
   "metadata": {},
   "outputs": [
    {
     "data": {
      "text/plain": [
       "113"
      ]
     },
     "execution_count": 24,
     "metadata": {},
     "output_type": "execute_result"
    }
   ],
   "source": [
    "vk.sort_values(ascending = False).head(1).values[0]   "
   ]
  },
  {
   "cell_type": "code",
   "execution_count": 25,
   "id": "1b4a3c83",
   "metadata": {},
   "outputs": [
    {
     "data": {
      "text/plain": [
       "movie\n",
       "1920 (film)                   Rajniesh Duggall\n",
       "1920: London                     Sharman Joshi\n",
       "1920: The Evil Returns             Vicky Ahuja\n",
       "1971 (2007 film)                Manoj Bajpayee\n",
       "2 States (2014 film)              Arjun Kapoor\n",
       "                                   ...        \n",
       "Zindagi 50-50                      Veena Malik\n",
       "Zindagi Na Milegi Dobara        Hrithik Roshan\n",
       "Zindagi Tere Naam           Mithun Chakraborty\n",
       "Zokkomon                       Darsheel Safary\n",
       "Zor Lagaa Ke...Haiya!            Meghan Jadhav\n",
       "Name: lead, Length: 1500, dtype: object"
      ]
     },
     "execution_count": 25,
     "metadata": {},
     "output_type": "execute_result"
    }
   ],
   "source": [
    "movies.sort_index()"
   ]
  },
  {
   "cell_type": "code",
   "execution_count": 26,
   "id": "e36b1138",
   "metadata": {},
   "outputs": [
    {
     "data": {
      "text/plain": [
       "movie\n",
       "Qaidi Band                            Aadar Jain\n",
       "Roar: Tigers of the Sundarbans      Aadil Chahal\n",
       "Lipstick Under My Burkha            Aahana Kumra\n",
       "Raat Gayi Baat Gayi?                Aamir Bashir\n",
       "Talaash: The Answer Lies Within       Aamir Khan\n",
       "                                        ...     \n",
       "Dil Toh Deewana Hai                  Zeenat Aman\n",
       "Sallu Ki Shaadi                      Zeenat Aman\n",
       "Strings of Passion                   Zeenat Aman\n",
       "Dunno Y... Na Jaane Kyon             Zeenat Aman\n",
       "Taj Mahal: An Eternal Love Story     Zulfi Sayed\n",
       "Name: lead, Length: 1500, dtype: object"
      ]
     },
     "execution_count": 26,
     "metadata": {},
     "output_type": "execute_result"
    }
   ],
   "source": [
    "movies.sort_values()"
   ]
  },
  {
   "cell_type": "code",
   "execution_count": 27,
   "id": "71424ab1",
   "metadata": {},
   "outputs": [
    {
     "data": {
      "text/plain": [
       "215"
      ]
     },
     "execution_count": 27,
     "metadata": {},
     "output_type": "execute_result"
    }
   ],
   "source": [
    "vk.size"
   ]
  },
  {
   "cell_type": "code",
   "execution_count": 28,
   "id": "b1f48f64",
   "metadata": {},
   "outputs": [
    {
     "data": {
      "text/plain": [
       "215"
      ]
     },
     "execution_count": 28,
     "metadata": {},
     "output_type": "execute_result"
    }
   ],
   "source": [
    "vk.count()"
   ]
  },
  {
   "cell_type": "code",
   "execution_count": 29,
   "id": "9f6730c9",
   "metadata": {},
   "outputs": [
    {
     "data": {
      "text/plain": [
       "215"
      ]
     },
     "execution_count": 29,
     "metadata": {},
     "output_type": "execute_result"
    }
   ],
   "source": [
    "vk.isna().count()"
   ]
  },
  {
   "cell_type": "code",
   "execution_count": 30,
   "id": "a6847bb0",
   "metadata": {},
   "outputs": [
    {
     "data": {
      "text/plain": [
       "49510"
      ]
     },
     "execution_count": 30,
     "metadata": {},
     "output_type": "execute_result"
    }
   ],
   "source": [
    "subs.sum()"
   ]
  },
  {
   "cell_type": "code",
   "execution_count": 31,
   "id": "3ace0227",
   "metadata": {},
   "outputs": [
    {
     "data": {
      "text/plain": [
       "135.64383561643837"
      ]
     },
     "execution_count": 31,
     "metadata": {},
     "output_type": "execute_result"
    }
   ],
   "source": [
    "subs.mean()"
   ]
  },
  {
   "cell_type": "code",
   "execution_count": 32,
   "id": "07837173",
   "metadata": {},
   "outputs": [
    {
     "data": {
      "text/plain": [
       "123.0"
      ]
     },
     "execution_count": 32,
     "metadata": {},
     "output_type": "execute_result"
    }
   ],
   "source": [
    "subs.median()"
   ]
  },
  {
   "cell_type": "code",
   "execution_count": 33,
   "id": "bb70f275",
   "metadata": {},
   "outputs": [
    {
     "data": {
      "text/plain": [
       "24.0"
      ]
     },
     "execution_count": 33,
     "metadata": {},
     "output_type": "execute_result"
    }
   ],
   "source": [
    "vk.median()"
   ]
  },
  {
   "cell_type": "code",
   "execution_count": 34,
   "id": "1282e9e7",
   "metadata": {},
   "outputs": [
    {
     "data": {
      "text/plain": [
       "0    Akshay Kumar\n",
       "dtype: object"
      ]
     },
     "execution_count": 34,
     "metadata": {},
     "output_type": "execute_result"
    }
   ],
   "source": [
    "movies.mode()"
   ]
  },
  {
   "cell_type": "code",
   "execution_count": 35,
   "id": "a21b6e71",
   "metadata": {},
   "outputs": [
    {
     "data": {
      "text/plain": [
       "26.22980132830278"
      ]
     },
     "execution_count": 35,
     "metadata": {},
     "output_type": "execute_result"
    }
   ],
   "source": [
    "vk.std()"
   ]
  },
  {
   "cell_type": "code",
   "execution_count": 36,
   "id": "e7053f0a",
   "metadata": {},
   "outputs": [
    {
     "data": {
      "text/plain": [
       "688.0024777222344"
      ]
     },
     "execution_count": 36,
     "metadata": {},
     "output_type": "execute_result"
    }
   ],
   "source": [
    "vk.var()"
   ]
  },
  {
   "cell_type": "code",
   "execution_count": null,
   "id": "b3194d9f",
   "metadata": {},
   "outputs": [],
   "source": []
  },
  {
   "cell_type": "code",
   "execution_count": 37,
   "id": "3c731802",
   "metadata": {},
   "outputs": [
    {
     "data": {
      "text/plain": [
       "33"
      ]
     },
     "execution_count": 37,
     "metadata": {},
     "output_type": "execute_result"
    }
   ],
   "source": [
    "subs.min()"
   ]
  },
  {
   "cell_type": "code",
   "execution_count": 38,
   "id": "72f16eeb",
   "metadata": {},
   "outputs": [
    {
     "data": {
      "text/plain": [
       "396"
      ]
     },
     "execution_count": 38,
     "metadata": {},
     "output_type": "execute_result"
    }
   ],
   "source": [
    "subs.max()"
   ]
  },
  {
   "cell_type": "code",
   "execution_count": 39,
   "id": "e4fc303f",
   "metadata": {},
   "outputs": [
    {
     "data": {
      "text/plain": [
       "count    365.000000\n",
       "mean     135.643836\n",
       "std       62.675023\n",
       "min       33.000000\n",
       "25%       88.000000\n",
       "50%      123.000000\n",
       "75%      177.000000\n",
       "max      396.000000\n",
       "Name: Subscribers gained, dtype: float64"
      ]
     },
     "execution_count": 39,
     "metadata": {},
     "output_type": "execute_result"
    }
   ],
   "source": [
    "subs.describe()"
   ]
  },
  {
   "cell_type": "code",
   "execution_count": 40,
   "id": "5c35602c",
   "metadata": {},
   "outputs": [
    {
     "data": {
      "text/plain": [
       "count    215.000000\n",
       "mean      30.855814\n",
       "std       26.229801\n",
       "min        0.000000\n",
       "25%        9.000000\n",
       "50%       24.000000\n",
       "75%       48.000000\n",
       "max      113.000000\n",
       "Name: runs, dtype: float64"
      ]
     },
     "execution_count": 40,
     "metadata": {},
     "output_type": "execute_result"
    }
   ],
   "source": [
    "vk.describe()"
   ]
  },
  {
   "cell_type": "code",
   "execution_count": 41,
   "id": "413f7e1b",
   "metadata": {},
   "outputs": [
    {
     "data": {
      "text/plain": [
       "count             1500\n",
       "unique             566\n",
       "top       Akshay Kumar\n",
       "freq                48\n",
       "Name: lead, dtype: object"
      ]
     },
     "execution_count": 41,
     "metadata": {},
     "output_type": "execute_result"
    }
   ],
   "source": [
    "movies.describe()"
   ]
  },
  {
   "cell_type": "code",
   "execution_count": 42,
   "id": "a7c8e294",
   "metadata": {},
   "outputs": [
    {
     "data": {
      "text/plain": [
       "count             1500\n",
       "unique             566\n",
       "top       Akshay Kumar\n",
       "freq                48\n",
       "Name: lead, dtype: object"
      ]
     },
     "execution_count": 42,
     "metadata": {},
     "output_type": "execute_result"
    }
   ],
   "source": [
    "movies.describe(include='all')"
   ]
  },
  {
   "cell_type": "markdown",
   "id": "b313ab28",
   "metadata": {},
   "source": [
    "## Series Indexing"
   ]
  },
  {
   "cell_type": "code",
   "execution_count": 43,
   "id": "00292b4b",
   "metadata": {},
   "outputs": [],
   "source": [
    "x = pd.Series([12,13,15,14,17,91,72,85,5,33])"
   ]
  },
  {
   "cell_type": "code",
   "execution_count": 44,
   "id": "9bc1b648",
   "metadata": {},
   "outputs": [
    {
     "data": {
      "text/plain": [
       "12"
      ]
     },
     "execution_count": 44,
     "metadata": {},
     "output_type": "execute_result"
    }
   ],
   "source": [
    "x[0]"
   ]
  },
  {
   "cell_type": "code",
   "execution_count": 45,
   "id": "14b76ed3",
   "metadata": {},
   "outputs": [
    {
     "data": {
      "text/plain": [
       "movie\n",
       "Uri: The Surgical Strike                   Vicky Kaushal\n",
       "Battalion 609                                Vicky Ahuja\n",
       "The Accidental Prime Minister (film)         Anupam Kher\n",
       "Why Cheat India                            Emraan Hashmi\n",
       "Evening Shadows                         Mona Ambegaonkar\n",
       "                                              ...       \n",
       "Hum Tumhare Hain Sanam                    Shah Rukh Khan\n",
       "Aankhen (2002 film)                     Amitabh Bachchan\n",
       "Saathiya (film)                             Vivek Oberoi\n",
       "Company (film)                                Ajay Devgn\n",
       "Awara Paagal Deewana                        Akshay Kumar\n",
       "Name: lead, Length: 1500, dtype: object"
      ]
     },
     "execution_count": 45,
     "metadata": {},
     "output_type": "execute_result"
    }
   ],
   "source": [
    "movies"
   ]
  },
  {
   "cell_type": "code",
   "execution_count": 46,
   "id": "c4a326f0",
   "metadata": {},
   "outputs": [
    {
     "data": {
      "text/plain": [
       "'Akshay Kumar'"
      ]
     },
     "execution_count": 46,
     "metadata": {},
     "output_type": "execute_result"
    }
   ],
   "source": [
    "movies[-1]    # Negative indexing works when our index column is a string"
   ]
  },
  {
   "cell_type": "code",
   "execution_count": 47,
   "id": "9ca67b79",
   "metadata": {},
   "outputs": [
    {
     "data": {
      "text/plain": [
       "match_no\n",
       "5      1\n",
       "6      9\n",
       "7     34\n",
       "8      0\n",
       "9     21\n",
       "10     3\n",
       "11    10\n",
       "12    38\n",
       "13     3\n",
       "14    11\n",
       "15    50\n",
       "16     2\n",
       "Name: runs, dtype: int64"
      ]
     },
     "execution_count": 47,
     "metadata": {},
     "output_type": "execute_result"
    }
   ],
   "source": [
    "vk[4:16]"
   ]
  },
  {
   "cell_type": "code",
   "execution_count": 48,
   "id": "30960540",
   "metadata": {},
   "outputs": [
    {
     "data": {
      "text/plain": [
       "match_no\n",
       "211     0\n",
       "212    20\n",
       "213    73\n",
       "214    25\n",
       "215     7\n",
       "Name: runs, dtype: int64"
      ]
     },
     "execution_count": 48,
     "metadata": {},
     "output_type": "execute_result"
    }
   ],
   "source": [
    "vk[-5:]"
   ]
  },
  {
   "cell_type": "code",
   "execution_count": 49,
   "id": "d441e62b",
   "metadata": {},
   "outputs": [
    {
     "data": {
      "text/plain": [
       "movie\n",
       "Hum Tumhare Hain Sanam      Shah Rukh Khan\n",
       "Aankhen (2002 film)       Amitabh Bachchan\n",
       "Saathiya (film)               Vivek Oberoi\n",
       "Company (film)                  Ajay Devgn\n",
       "Awara Paagal Deewana          Akshay Kumar\n",
       "Name: lead, dtype: object"
      ]
     },
     "execution_count": 49,
     "metadata": {},
     "output_type": "execute_result"
    }
   ],
   "source": [
    "movies[-5:]"
   ]
  },
  {
   "cell_type": "code",
   "execution_count": 50,
   "id": "18e6729d",
   "metadata": {},
   "outputs": [
    {
     "data": {
      "text/plain": [
       "movie\n",
       "Uri: The Surgical Strike             Vicky Kaushal\n",
       "Why Cheat India                      Emraan Hashmi\n",
       "Fraud Saiyaan                         Arshad Warsi\n",
       "Thackeray (film)               Nawazuddin Siddiqui\n",
       "Hum Chaar                              Prit Kamani\n",
       "                                      ...         \n",
       "Talaash: The Hunt Begins...          Rakhee Gulzar\n",
       "Yeh Dil                             Tusshar Kapoor\n",
       "Zameen (2003 film)                      Ajay Devgn\n",
       "Kaante                            Amitabh Bachchan\n",
       "Saathiya (film)                       Vivek Oberoi\n",
       "Name: lead, Length: 500, dtype: object"
      ]
     },
     "execution_count": 50,
     "metadata": {},
     "output_type": "execute_result"
    }
   ],
   "source": [
    "movies[::3]"
   ]
  },
  {
   "cell_type": "code",
   "execution_count": 51,
   "id": "180f1271",
   "metadata": {},
   "outputs": [
    {
     "data": {
      "text/plain": [
       "match_no\n",
       "1     1\n",
       "3    13\n",
       "4    12\n",
       "5     1\n",
       "Name: runs, dtype: int64"
      ]
     },
     "execution_count": 51,
     "metadata": {},
     "output_type": "execute_result"
    }
   ],
   "source": [
    "vk[[1,3,4,5]] #Fancy Indexing like numpy"
   ]
  },
  {
   "cell_type": "code",
   "execution_count": 52,
   "id": "24e8e873",
   "metadata": {},
   "outputs": [
    {
     "data": {
      "text/plain": [
       "(215,)"
      ]
     },
     "execution_count": 52,
     "metadata": {},
     "output_type": "execute_result"
    }
   ],
   "source": [
    "vk.shape"
   ]
  },
  {
   "cell_type": "code",
   "execution_count": 53,
   "id": "a6c7f0b1",
   "metadata": {},
   "outputs": [
    {
     "data": {
      "text/plain": [
       "[75, 80, 91, 33]"
      ]
     },
     "execution_count": 53,
     "metadata": {},
     "output_type": "execute_result"
    }
   ],
   "source": [
    "list(df)"
   ]
  },
  {
   "cell_type": "code",
   "execution_count": 54,
   "id": "76c1c327",
   "metadata": {},
   "outputs": [
    {
     "data": {
      "text/plain": [
       "{'Maths': 75, 'Physics': 80, 'Computer Science': 91, 'English': 33}"
      ]
     },
     "execution_count": 54,
     "metadata": {},
     "output_type": "execute_result"
    }
   ],
   "source": [
    "dict(df)"
   ]
  },
  {
   "cell_type": "code",
   "execution_count": 55,
   "id": "e9021dc2",
   "metadata": {},
   "outputs": [
    {
     "data": {
      "text/plain": [
       "True"
      ]
     },
     "execution_count": 55,
     "metadata": {},
     "output_type": "execute_result"
    }
   ],
   "source": [
    "'Saathiya (film)' in movies"
   ]
  },
  {
   "cell_type": "code",
   "execution_count": 56,
   "id": "57cbd7c6",
   "metadata": {},
   "outputs": [
    {
     "data": {
      "text/plain": [
       "True"
      ]
     },
     "execution_count": 56,
     "metadata": {},
     "output_type": "execute_result"
    }
   ],
   "source": [
    "'Akshay Kumar' in movies.values"
   ]
  },
  {
   "cell_type": "code",
   "execution_count": 57,
   "id": "6e48b89a",
   "metadata": {},
   "outputs": [
    {
     "data": {
      "text/plain": [
       "match_no\n",
       "123    108\n",
       "126    109\n",
       "128    113\n",
       "Name: runs, dtype: int64"
      ]
     },
     "execution_count": 57,
     "metadata": {},
     "output_type": "execute_result"
    }
   ],
   "source": [
    "vk[vk > 100]"
   ]
  },
  {
   "cell_type": "code",
   "execution_count": 58,
   "id": "9de47c4d",
   "metadata": {},
   "outputs": [
    {
     "data": {
      "text/plain": [
       "match_no\n",
       "8      0\n",
       "87     0\n",
       "91     0\n",
       "93     0\n",
       "130    0\n",
       "135    0\n",
       "206    0\n",
       "207    0\n",
       "211    0\n",
       "Name: runs, dtype: int64"
      ]
     },
     "execution_count": 58,
     "metadata": {},
     "output_type": "execute_result"
    }
   ],
   "source": [
    "vk[vk==0]"
   ]
  },
  {
   "cell_type": "code",
   "execution_count": 59,
   "id": "c5fd14d3",
   "metadata": {},
   "outputs": [
    {
     "data": {
      "text/plain": [
       "match_no\n",
       "1      1\n",
       "5      1\n",
       "6      9\n",
       "8      0\n",
       "10     3\n",
       "13     3\n",
       "16     2\n",
       "25     7\n",
       "26     2\n",
       "35     3\n",
       "38     9\n",
       "53     8\n",
       "55     8\n",
       "56     6\n",
       "60     4\n",
       "64     9\n",
       "66     9\n",
       "67     3\n",
       "75     1\n",
       "77     1\n",
       "87     0\n",
       "90     4\n",
       "91     0\n",
       "93     0\n",
       "94     4\n",
       "106    1\n",
       "113    1\n",
       "125    7\n",
       "130    0\n",
       "135    0\n",
       "139    6\n",
       "140    5\n",
       "150    8\n",
       "155    4\n",
       "156    6\n",
       "158    3\n",
       "163    8\n",
       "165    9\n",
       "171    9\n",
       "172    7\n",
       "174    1\n",
       "183    8\n",
       "184    6\n",
       "187    5\n",
       "189    8\n",
       "192    5\n",
       "194    5\n",
       "195    4\n",
       "202    5\n",
       "204    1\n",
       "206    0\n",
       "207    0\n",
       "208    9\n",
       "211    0\n",
       "215    7\n",
       "Name: runs, dtype: int64"
      ]
     },
     "execution_count": 59,
     "metadata": {},
     "output_type": "execute_result"
    }
   ],
   "source": [
    "vk[vk<10]"
   ]
  },
  {
   "cell_type": "code",
   "execution_count": 60,
   "id": "46a0ada9",
   "metadata": {},
   "outputs": [
    {
     "data": {
      "text/plain": [
       "match_no\n",
       "1       1\n",
       "2      23\n",
       "3      13\n",
       "4      12\n",
       "5       1\n",
       "       ..\n",
       "210    30\n",
       "211     0\n",
       "212    20\n",
       "214    25\n",
       "215     7\n",
       "Name: runs, Length: 122, dtype: int64"
      ]
     },
     "execution_count": 60,
     "metadata": {},
     "output_type": "execute_result"
    }
   ],
   "source": [
    "vk[vk<vk.mean()]"
   ]
  },
  {
   "cell_type": "code",
   "execution_count": 61,
   "id": "d7d289be",
   "metadata": {},
   "outputs": [
    {
     "data": {
      "text/plain": [
       "50"
      ]
     },
     "execution_count": 61,
     "metadata": {},
     "output_type": "execute_result"
    }
   ],
   "source": [
    "vk[vk>=50].size"
   ]
  },
  {
   "cell_type": "code",
   "execution_count": 62,
   "id": "6fb15f8c",
   "metadata": {},
   "outputs": [
    {
     "data": {
      "text/plain": [
       "9"
      ]
     },
     "execution_count": 62,
     "metadata": {},
     "output_type": "execute_result"
    }
   ],
   "source": [
    "vk[vk==0].size"
   ]
  },
  {
   "cell_type": "code",
   "execution_count": 63,
   "id": "1a6df7b1",
   "metadata": {},
   "outputs": [
    {
     "data": {
      "text/plain": [
       "59"
      ]
     },
     "execution_count": 63,
     "metadata": {},
     "output_type": "execute_result"
    }
   ],
   "source": [
    "subs[subs>200].count()"
   ]
  },
  {
   "cell_type": "code",
   "execution_count": 64,
   "id": "76ee0c69",
   "metadata": {},
   "outputs": [
    {
     "data": {
      "text/plain": [
       "Akshay Kumar        48\n",
       "Amitabh Bachchan    45\n",
       "Ajay Devgn          38\n",
       "Salman Khan         31\n",
       "Sanjay Dutt         26\n",
       "Shah Rukh Khan      22\n",
       "Emraan Hashmi       21\n",
       "Name: lead, dtype: int64"
      ]
     },
     "execution_count": 64,
     "metadata": {},
     "output_type": "execute_result"
    }
   ],
   "source": [
    "num_movies=movies.value_counts()\n",
    "num_movies[num_movies>20]"
   ]
  },
  {
   "cell_type": "code",
   "execution_count": 65,
   "id": "d1c159eb",
   "metadata": {},
   "outputs": [
    {
     "data": {
      "text/plain": [
       "<AxesSubplot:>"
      ]
     },
     "execution_count": 65,
     "metadata": {},
     "output_type": "execute_result"
    },
    {
     "data": {
      "image/png": "[encoded data removed]",
      "text/plain": [
       "<Figure size 432x288 with 1 Axes>"
      ]
     },
     "metadata": {
      "needs_background": "light"
     },
     "output_type": "display_data"
    }
   ],
   "source": [
    "subs.plot()"
   ]
  },
  {
   "cell_type": "code",
   "execution_count": 66,
   "id": "e289a10c",
   "metadata": {},
   "outputs": [
    {
     "data": {
      "text/plain": [
       "<AxesSubplot:>"
      ]
     },
     "execution_count": 66,
     "metadata": {},
     "output_type": "execute_result"
    },
    {
     "data": {
      "image/png": "[encoded data removed]",
      "text/plain": [
       "<Figure size 432x288 with 1 Axes>"
      ]
     },
     "metadata": {
      "needs_background": "light"
     },
     "output_type": "display_data"
    }
   ],
   "source": [
    "movies.value_counts().head(20).plot(kind='bar')"
   ]
  },
  {
   "cell_type": "markdown",
   "id": "6fa85ae0",
   "metadata": {},
   "source": [
    "## Some more important python methods"
   ]
  },
  {
   "cell_type": "code",
   "execution_count": 67,
   "id": "bad6f7c6",
   "metadata": {},
   "outputs": [
    {
     "data": {
      "text/plain": [
       "match_no\n",
       "1       1\n",
       "2      23\n",
       "3      13\n",
       "4      12\n",
       "5       1\n",
       "       ..\n",
       "211     0\n",
       "212    20\n",
       "213    73\n",
       "214    25\n",
       "215     7\n",
       "Name: runs, Length: 215, dtype: int64"
      ]
     },
     "execution_count": 67,
     "metadata": {},
     "output_type": "execute_result"
    }
   ],
   "source": [
    "vk"
   ]
  },
  {
   "cell_type": "code",
   "execution_count": 68,
   "id": "d1fbce35",
   "metadata": {},
   "outputs": [
    {
     "data": {
      "text/plain": [
       "11752"
      ]
     },
     "execution_count": 68,
     "metadata": {},
     "output_type": "execute_result"
    }
   ],
   "source": [
    "import sys\n",
    "\n",
    "sys.getsizeof(vk)"
   ]
  },
  {
   "cell_type": "code",
   "execution_count": 70,
   "id": "d457b939",
   "metadata": {},
   "outputs": [
    {
     "data": {
      "text/plain": [
       "10462"
      ]
     },
     "execution_count": 70,
     "metadata": {},
     "output_type": "execute_result"
    }
   ],
   "source": [
    "sys.getsizeof(vk.astype('int16'))"
   ]
  },
  {
   "cell_type": "code",
   "execution_count": 74,
   "id": "450ee83a",
   "metadata": {},
   "outputs": [
    {
     "data": {
      "text/plain": [
       "43"
      ]
     },
     "execution_count": 74,
     "metadata": {},
     "output_type": "execute_result"
    }
   ],
   "source": [
    "# between\n",
    "\n",
    "vk[vk.between(51,99)].size"
   ]
  },
  {
   "cell_type": "code",
   "execution_count": 76,
   "id": "95e67ad1",
   "metadata": {},
   "outputs": [
    {
     "data": {
      "text/plain": [
       "0       48\n",
       "1       57\n",
       "2       40\n",
       "3       43\n",
       "4       44\n",
       "      ... \n",
       "360    231\n",
       "361    226\n",
       "362    155\n",
       "363    144\n",
       "364    172\n",
       "Name: Subscribers gained, Length: 365, dtype: int64"
      ]
     },
     "execution_count": 76,
     "metadata": {},
     "output_type": "execute_result"
    }
   ],
   "source": [
    "subs"
   ]
  },
  {
   "cell_type": "code",
   "execution_count": 75,
   "id": "93ccac70",
   "metadata": {},
   "outputs": [
    {
     "data": {
      "text/plain": [
       "0      100\n",
       "1      100\n",
       "2      100\n",
       "3      100\n",
       "4      100\n",
       "      ... \n",
       "360    200\n",
       "361    200\n",
       "362    155\n",
       "363    144\n",
       "364    172\n",
       "Name: Subscribers gained, Length: 365, dtype: int64"
      ]
     },
     "execution_count": 75,
     "metadata": {},
     "output_type": "execute_result"
    }
   ],
   "source": [
    "# clip\n",
    "\n",
    "subs.clip(100,200)"
   ]
  },
  {
   "cell_type": "code",
   "execution_count": 77,
   "id": "8276fda2",
   "metadata": {},
   "outputs": [],
   "source": [
    "temp_series = pd.Series([1,2,1,3,1,2,3,12,13,14,14,15])"
   ]
  },
  {
   "cell_type": "code",
   "execution_count": 83,
   "id": "eaabc43f",
   "metadata": {},
   "outputs": [
    {
     "data": {
      "text/plain": [
       "0     False\n",
       "1     False\n",
       "2      True\n",
       "3     False\n",
       "4      True\n",
       "5      True\n",
       "6      True\n",
       "7     False\n",
       "8     False\n",
       "9     False\n",
       "10     True\n",
       "11    False\n",
       "dtype: bool"
      ]
     },
     "execution_count": 83,
     "metadata": {},
     "output_type": "execute_result"
    }
   ],
   "source": [
    "temp_series.duplicated()"
   ]
  },
  {
   "cell_type": "code",
   "execution_count": 82,
   "id": "a2ad3f91",
   "metadata": {},
   "outputs": [
    {
     "data": {
      "text/plain": [
       "5"
      ]
     },
     "execution_count": 82,
     "metadata": {},
     "output_type": "execute_result"
    }
   ],
   "source": [
    "temp_series.duplicated().sum()"
   ]
  },
  {
   "cell_type": "code",
   "execution_count": 81,
   "id": "be23c19a",
   "metadata": {},
   "outputs": [
    {
     "data": {
      "text/html": [
       "<div>\n",
       "<style scoped>\n",
       "    .dataframe tbody tr th:only-of-type {\n",
       "        vertical-align: middle;\n",
       "    }\n",
       "\n",
       "    .dataframe tbody tr th {\n",
       "        vertical-align: top;\n",
       "    }\n",
       "\n",
       "    .dataframe thead th {\n",
       "        text-align: right;\n",
       "    }\n",
       "</style>\n",
       "<table border=\"1\" class=\"dataframe\">\n",
       "  <thead>\n",
       "    <tr style=\"text-align: right;\">\n",
       "      <th></th>\n",
       "      <th>index</th>\n",
       "      <th>0</th>\n",
       "    </tr>\n",
       "  </thead>\n",
       "  <tbody>\n",
       "    <tr>\n",
       "      <th>0</th>\n",
       "      <td>0</td>\n",
       "      <td>1</td>\n",
       "    </tr>\n",
       "    <tr>\n",
       "      <th>1</th>\n",
       "      <td>1</td>\n",
       "      <td>2</td>\n",
       "    </tr>\n",
       "    <tr>\n",
       "      <th>2</th>\n",
       "      <td>3</td>\n",
       "      <td>3</td>\n",
       "    </tr>\n",
       "    <tr>\n",
       "      <th>3</th>\n",
       "      <td>7</td>\n",
       "      <td>12</td>\n",
       "    </tr>\n",
       "    <tr>\n",
       "      <th>4</th>\n",
       "      <td>8</td>\n",
       "      <td>13</td>\n",
       "    </tr>\n",
       "    <tr>\n",
       "      <th>5</th>\n",
       "      <td>9</td>\n",
       "      <td>14</td>\n",
       "    </tr>\n",
       "    <tr>\n",
       "      <th>6</th>\n",
       "      <td>11</td>\n",
       "      <td>15</td>\n",
       "    </tr>\n",
       "  </tbody>\n",
       "</table>\n",
       "</div>"
      ],
      "text/plain": [
       "   index   0\n",
       "0      0   1\n",
       "1      1   2\n",
       "2      3   3\n",
       "3      7  12\n",
       "4      8  13\n",
       "5      9  14\n",
       "6     11  15"
      ]
     },
     "execution_count": 81,
     "metadata": {},
     "output_type": "execute_result"
    }
   ],
   "source": [
    "temp_series.drop_duplicates().reset_index()"
   ]
  },
  {
   "cell_type": "code",
   "execution_count": 84,
   "id": "f8b7596e",
   "metadata": {},
   "outputs": [],
   "source": [
    "import numpy as np\n",
    "temp_series = pd.Series([1,2,1,3,np.nan,2,3,12,13,np.nan,14,14,15])"
   ]
  },
  {
   "cell_type": "code",
   "execution_count": 85,
   "id": "862f3f8a",
   "metadata": {},
   "outputs": [
    {
     "data": {
      "text/plain": [
       "13"
      ]
     },
     "execution_count": 85,
     "metadata": {},
     "output_type": "execute_result"
    }
   ],
   "source": [
    "temp_series.size"
   ]
  },
  {
   "cell_type": "code",
   "execution_count": 87,
   "id": "8d7c6fab",
   "metadata": {},
   "outputs": [
    {
     "data": {
      "text/plain": [
       "11"
      ]
     },
     "execution_count": 87,
     "metadata": {},
     "output_type": "execute_result"
    }
   ],
   "source": [
    "temp_series.count()"
   ]
  },
  {
   "cell_type": "code",
   "execution_count": 88,
   "id": "bd71c123",
   "metadata": {},
   "outputs": [
    {
     "data": {
      "text/plain": [
       "2"
      ]
     },
     "execution_count": 88,
     "metadata": {},
     "output_type": "execute_result"
    }
   ],
   "source": [
    "temp_series.isna().sum()"
   ]
  },
  {
   "cell_type": "code",
   "execution_count": 89,
   "id": "bd0302f1",
   "metadata": {},
   "outputs": [],
   "source": [
    "temp_drop_na=temp_series.dropna()"
   ]
  },
  {
   "cell_type": "code",
   "execution_count": 90,
   "id": "610e759a",
   "metadata": {},
   "outputs": [
    {
     "data": {
      "text/plain": [
       "0      1.0\n",
       "1      2.0\n",
       "2      1.0\n",
       "3      3.0\n",
       "5      2.0\n",
       "6      3.0\n",
       "7     12.0\n",
       "8     13.0\n",
       "10    14.0\n",
       "11    14.0\n",
       "12    15.0\n",
       "dtype: float64"
      ]
     },
     "execution_count": 90,
     "metadata": {},
     "output_type": "execute_result"
    }
   ],
   "source": [
    "temp_drop_na"
   ]
  },
  {
   "cell_type": "code",
   "execution_count": 91,
   "id": "95428f02",
   "metadata": {},
   "outputs": [],
   "source": [
    "temp_fill_na=temp_series.fillna(0)"
   ]
  },
  {
   "cell_type": "code",
   "execution_count": 95,
   "id": "6ee3638b",
   "metadata": {},
   "outputs": [
    {
     "data": {
      "text/plain": [
       "0      1.000000\n",
       "1      2.000000\n",
       "2      1.000000\n",
       "3      3.000000\n",
       "4      7.272727\n",
       "5      2.000000\n",
       "6      3.000000\n",
       "7     12.000000\n",
       "8     13.000000\n",
       "9      7.272727\n",
       "10    14.000000\n",
       "11    14.000000\n",
       "12    15.000000\n",
       "dtype: float64"
      ]
     },
     "execution_count": 95,
     "metadata": {},
     "output_type": "execute_result"
    }
   ],
   "source": [
    "temp_fill_na"
   ]
  },
  {
   "cell_type": "code",
   "execution_count": 94,
   "id": "68601a0b",
   "metadata": {},
   "outputs": [],
   "source": [
    "temp_fill_na=temp_series.fillna(temp_series.mean())"
   ]
  },
  {
   "cell_type": "code",
   "execution_count": 97,
   "id": "624b8af4",
   "metadata": {},
   "outputs": [
    {
     "data": {
      "text/plain": [
       "match_no\n",
       "82    99\n",
       "86    49\n",
       "Name: runs, dtype: int64"
      ]
     },
     "execution_count": 97,
     "metadata": {},
     "output_type": "execute_result"
    }
   ],
   "source": [
    "# isin\n",
    "\n",
    "vk[vk.isin([49,99,69])] "
   ]
  },
  {
   "cell_type": "code",
   "execution_count": 98,
   "id": "5c9650b1",
   "metadata": {},
   "outputs": [
    {
     "data": {
      "text/plain": [
       "movie\n",
       "Uri: The Surgical Strike                   Vicky Kaushal\n",
       "Battalion 609                                Vicky Ahuja\n",
       "The Accidental Prime Minister (film)         Anupam Kher\n",
       "Why Cheat India                            Emraan Hashmi\n",
       "Evening Shadows                         Mona Ambegaonkar\n",
       "                                              ...       \n",
       "Hum Tumhare Hain Sanam                    Shah Rukh Khan\n",
       "Aankhen (2002 film)                     Amitabh Bachchan\n",
       "Saathiya (film)                             Vivek Oberoi\n",
       "Company (film)                                Ajay Devgn\n",
       "Awara Paagal Deewana                        Akshay Kumar\n",
       "Name: lead, Length: 1500, dtype: object"
      ]
     },
     "execution_count": 98,
     "metadata": {},
     "output_type": "execute_result"
    }
   ],
   "source": [
    "# apply\n",
    "\n",
    "movies"
   ]
  },
  {
   "cell_type": "code",
   "execution_count": 100,
   "id": "e2237f21",
   "metadata": {},
   "outputs": [
    {
     "data": {
      "text/plain": [
       "movie\n",
       "Uri: The Surgical Strike                  VICKY\n",
       "Battalion 609                             VICKY\n",
       "The Accidental Prime Minister (film)     ANUPAM\n",
       "Why Cheat India                          EMRAAN\n",
       "Evening Shadows                            MONA\n",
       "                                         ...   \n",
       "Hum Tumhare Hain Sanam                     SHAH\n",
       "Aankhen (2002 film)                     AMITABH\n",
       "Saathiya (film)                           VIVEK\n",
       "Company (film)                             AJAY\n",
       "Awara Paagal Deewana                     AKSHAY\n",
       "Name: lead, Length: 1500, dtype: object"
      ]
     },
     "execution_count": 100,
     "metadata": {},
     "output_type": "execute_result"
    }
   ],
   "source": [
    "movies.apply(lambda x:x.split()[0].upper())"
   ]
  },
  {
   "cell_type": "code",
   "execution_count": 102,
   "id": "d097041b",
   "metadata": {},
   "outputs": [
    {
     "data": {
      "text/plain": [
       "0       bad day\n",
       "1       bad day\n",
       "2       bad day\n",
       "3       bad day\n",
       "4       bad day\n",
       "         ...   \n",
       "360    good day\n",
       "361    good day\n",
       "362    good day\n",
       "363    good day\n",
       "364    good day\n",
       "Name: Subscribers gained, Length: 365, dtype: object"
      ]
     },
     "execution_count": 102,
     "metadata": {},
     "output_type": "execute_result"
    }
   ],
   "source": [
    "subs.apply(lambda x:'good day' if x > subs.mean() else 'bad day')"
   ]
  },
  {
   "cell_type": "code",
   "execution_count": 104,
   "id": "0ecadf2e",
   "metadata": {},
   "outputs": [],
   "source": [
    "# copy \n",
    "\n",
    "new = vk.head(5)"
   ]
  },
  {
   "cell_type": "code",
   "execution_count": 105,
   "id": "2a033bd4",
   "metadata": {},
   "outputs": [],
   "source": [
    "new[1]=100"
   ]
  },
  {
   "cell_type": "code",
   "execution_count": 106,
   "id": "e58c237c",
   "metadata": {},
   "outputs": [
    {
     "name": "stdout",
     "output_type": "stream",
     "text": [
      "match_no\n",
      "1    100\n",
      "2     23\n",
      "3     13\n",
      "4     12\n",
      "5      1\n",
      "Name: runs, dtype: int64 match_no\n",
      "1      100\n",
      "2       23\n",
      "3       13\n",
      "4       12\n",
      "5        1\n",
      "      ... \n",
      "211      0\n",
      "212     20\n",
      "213     73\n",
      "214     25\n",
      "215      7\n",
      "Name: runs, Length: 215, dtype: int64\n"
     ]
    }
   ],
   "source": [
    "print(new,vk)"
   ]
  },
  {
   "cell_type": "code",
   "execution_count": 107,
   "id": "c18c8703",
   "metadata": {},
   "outputs": [],
   "source": [
    "new = vk.head(5).copy()"
   ]
  },
  {
   "cell_type": "code",
   "execution_count": 108,
   "id": "e674bea4",
   "metadata": {},
   "outputs": [],
   "source": [
    "new[1]=1"
   ]
  },
  {
   "cell_type": "code",
   "execution_count": 109,
   "id": "c7c19a47",
   "metadata": {},
   "outputs": [
    {
     "name": "stdout",
     "output_type": "stream",
     "text": [
      "match_no\n",
      "1     1\n",
      "2    23\n",
      "3    13\n",
      "4    12\n",
      "5     1\n",
      "Name: runs, dtype: int64 match_no\n",
      "1      100\n",
      "2       23\n",
      "3       13\n",
      "4       12\n",
      "5        1\n",
      "      ... \n",
      "211      0\n",
      "212     20\n",
      "213     73\n",
      "214     25\n",
      "215      7\n",
      "Name: runs, Length: 215, dtype: int64\n"
     ]
    }
   ],
   "source": [
    "print(new,vk)"
   ]
  },
  {
   "cell_type": "code",
   "execution_count": null,
   "id": "50d75376",
   "metadata": {},
   "outputs": [],
   "source": []
  },
  {
   "cell_type": "code",
   "execution_count": null,
   "id": "68daf18e",
   "metadata": {},
   "outputs": [],
   "source": []
  },
  {
   "cell_type": "code",
   "execution_count": null,
   "id": "feebe6f1",
   "metadata": {},
   "outputs": [],
   "source": []
  }
 ],
 "metadata": {
  "kernelspec": {
   "display_name": "Python 3 (ipykernel)",
   "language": "python",
   "name": "python3"
  },
  "language_info": {
   "codemirror_mode": {
    "name": "ipython",
    "version": 3
   },
   "file_extension": ".py",
   "mimetype": "text/x-python",
   "name": "python",
   "nbconvert_exporter": "python",
   "pygments_lexer": "ipython3",
   "version": "3.9.7"
  }
 },
 "nbformat": 4,
 "nbformat_minor": 5
}
